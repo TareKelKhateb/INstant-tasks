{
 "cells": [
  {
   "cell_type": "code",
   "execution_count": null,
   "id": "f4bf0b46",
   "metadata": {},
   "outputs": [],
   "source": [
    "import requests\n",
    "from bs4 import BeautifulSoup"
   ]
  },
  {
   "cell_type": "code",
   "execution_count": null,
   "id": "60288ad9",
   "metadata": {},
   "outputs": [],
   "source": [
    "#func to get the page  \n",
    "def page_as_BS_obj(url):\n",
    "    page=requests.get(url)\n",
    "    soup=BeautifulSoup(page.content,\"html.parser\")\n",
    "    return soup"
   ]
  },
  {
   "cell_type": "code",
   "execution_count": null,
   "id": "69d2a073",
   "metadata": {},
   "outputs": [],
   "source": [
    "url=\"https://www.imdb.com/chart/top/\"\n",
    "soup=page_as_BS_obj(url)"
   ]
  },
  {
   "cell_type": "code",
   "execution_count": null,
   "id": "c56a209c",
   "metadata": {},
   "outputs": [],
   "source": [
    "movies=soup.find_all(\"td\",class_=\"titleColumn\")\n",
    "movie_link=[]\n",
    "movie_name=[]\n",
    "movie_rank=[]\n",
    "for movie in movies:\n",
    "    #scraping link and name\n",
    "    movie_link.append(\"https://www.imdb.com/\"+movie.a[\"href\"])\n",
    "    movie_name.append(movie.a.text)\n",
    "    #scrapping rank\n",
    "    t=movie.text.strip()\n",
    "    rank=\"\"\n",
    "    i=0\n",
    "    while True:       #looping through the string to fimd the last digit\n",
    "        if t[i]==\".\":\n",
    "            break\n",
    "        rank+=t[i]\n",
    "        i+=1\n",
    "     \n",
    "    movie_rank.append(rank)    \n",
    "  "
   ]
  },
  {
   "cell_type": "code",
   "execution_count": null,
   "id": "aa8e4925",
   "metadata": {
    "scrolled": true
   },
   "outputs": [],
   "source": [
    "\n",
    "movie_rate=[]\n",
    "movrate=soup.find_all(\"td\",class_=\"ratingColumn imdbRating\")\n",
    "for rate in movrate:\n",
    "    movie_rate.append(rate.text.strip())"
   ]
  },
  {
   "cell_type": "markdown",
   "id": "fab9333a",
   "metadata": {},
   "source": [
    "saviing the data into csv file"
   ]
  },
  {
   "cell_type": "code",
   "execution_count": null,
   "id": "872e3d0b",
   "metadata": {},
   "outputs": [],
   "source": [
    "import csv\n",
    "with open('imdb_top250_movies.csv','w',encoding='UTF8',newline='') as f:\n",
    "    writer =csv.writer(f)\n",
    "    writer.writerow([\"rank\",\"name\",\"rate\",\"link\",\"rrrrrr\"])\n",
    "    \n",
    "    for movie_num in range(0,len(movie_rank)-1):\n",
    "        writer.writerow([movie_rank[movie_num],movie_name[movie_num],movie_rate[movie_num],movie_link[movie_num],movie_rate[movie_num]])\n",
    "\n",
    "    "
   ]
  },
  {
   "cell_type": "code",
   "execution_count": null,
   "id": "c33ea7ed",
   "metadata": {},
   "outputs": [],
   "source": [
    "import pandas as pd\n",
    "data_framework=pd.read_csv(\"imdb_top250_movies.csv\")\n",
    "data_framework"
   ]
  },
  {
   "cell_type": "code",
   "execution_count": null,
   "id": "9cfe9d89",
   "metadata": {},
   "outputs": [],
   "source": []
  },
  {
   "cell_type": "code",
   "execution_count": null,
   "id": "5dc32ac1",
   "metadata": {},
   "outputs": [],
   "source": []
  }
 ],
 "metadata": {
  "kernelspec": {
   "display_name": "Python 3 (ipykernel)",
   "language": "python",
   "name": "python3"
  },
  "language_info": {
   "codemirror_mode": {
    "name": "ipython",
    "version": 3
   },
   "file_extension": ".py",
   "mimetype": "text/x-python",
   "name": "python",
   "nbconvert_exporter": "python",
   "pygments_lexer": "ipython3",
   "version": "3.9.12"
  }
 },
 "nbformat": 4,
 "nbformat_minor": 5
}
