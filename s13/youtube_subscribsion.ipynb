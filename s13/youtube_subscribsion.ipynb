{
 "cells": [
  {
   "cell_type": "code",
   "execution_count": null,
   "id": "70bc2f48",
   "metadata": {},
   "outputs": [],
   "source": [
    "import requests\n",
    "from bs4 import BeautifulSoup\n",
    "\n",
    "#get the file with thml code\n",
    "f=open('youtupe_subs.txt','r',encoding='UTF-8')\n",
    "#print(f.read())\n",
    "\n",
    "soup=BeautifulSoup(f.read(),'lxml')\n",
    "print(soup)"
   ]
  },
  {
   "cell_type": "code",
   "execution_count": null,
   "id": "06dd020b",
   "metadata": {},
   "outputs": [],
   "source": [
    "yut_channels=soup.find_all('div',id='content-section',class_=\"style-scope ytd-channel-renderer\")\n",
    "#print(yut_channels)\n",
    "import csv\n",
    "with open('channels.csv','w',encoding='UTF-8') as f:\n",
    "    writer=csv.writer(f)\n",
    "    writer.writerow(['channel ','link'])\n",
    "    for channel in yut_channels:\n",
    "        channel_name=channel.find('yt-formatted-string',id =\"text\",class_=\"style-scope ytd-channel-name\")\n",
    "        channel_link=channel.find('a',id=\"main-link\")\n",
    "        #print(channel_name.text,\"  \",channel_link['href'])\n",
    "        writer.writerow([channel_name.text,channel_link['href']])\n"
   ]
  },
  {
   "cell_type": "code",
   "execution_count": null,
   "id": "084768e6",
   "metadata": {},
   "outputs": [],
   "source": [
    "import pandas as pd\n",
    "dataframe =pd.read_csv('channels.csv')\n",
    "dataframe"
   ]
  },
  {
   "cell_type": "code",
   "execution_count": null,
   "id": "9d2fade8",
   "metadata": {},
   "outputs": [],
   "source": []
  }
 ],
 "metadata": {
  "kernelspec": {
   "display_name": "Python 3 (ipykernel)",
   "language": "python",
   "name": "python3"
  },
  "language_info": {
   "codemirror_mode": {
    "name": "ipython",
    "version": 3
   },
   "file_extension": ".py",
   "mimetype": "text/x-python",
   "name": "python",
   "nbconvert_exporter": "python",
   "pygments_lexer": "ipython3",
   "version": "3.9.12"
  }
 },
 "nbformat": 4,
 "nbformat_minor": 5
}
