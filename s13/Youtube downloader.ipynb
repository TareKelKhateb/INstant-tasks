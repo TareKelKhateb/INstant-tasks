{
 "cells": [
  {
   "cell_type": "code",
   "execution_count": null,
   "id": "bb1ab340",
   "metadata": {},
   "outputs": [],
   "source": [
    "#imort necasseery library\n",
    "from pytube import YouTube\n",
    "#get url\n",
    "url = input(\"enter the video link\")\n",
    "yt=YouTube(url)\n",
    "#show all resoultion\n",
    "videos_quality=yt.streams.all()\n",
    "re_list=list(enumerate(videos_quality))\n",
    "for i in re_list:\n",
    "    print(i)\n",
    "    \n",
    "    \n",
    "resoultion =int(input(\"enter your chocice\"))\n",
    "videos_quality[resoultion].download()"
   ]
  },
  {
   "cell_type": "code",
   "execution_count": null,
   "id": "b629edc1",
   "metadata": {},
   "outputs": [],
   "source": []
  }
 ],
 "metadata": {
  "kernelspec": {
   "display_name": "Python 3 (ipykernel)",
   "language": "python",
   "name": "python3"
  },
  "language_info": {
   "codemirror_mode": {
    "name": "ipython",
    "version": 3
   },
   "file_extension": ".py",
   "mimetype": "text/x-python",
   "name": "python",
   "nbconvert_exporter": "python",
   "pygments_lexer": "ipython3",
   "version": "3.9.12"
  }
 },
 "nbformat": 4,
 "nbformat_minor": 5
}
