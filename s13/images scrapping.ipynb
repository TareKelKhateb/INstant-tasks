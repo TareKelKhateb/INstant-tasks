{
 "cells": [
  {
   "cell_type": "code",
   "execution_count": null,
   "id": "60562ecf",
   "metadata": {},
   "outputs": [],
   "source": [
    "#getting url.\n",
    "import requests\n",
    "from  bs4 import BeautifulSoup\n",
    "page=requests.get(\"https://www.geeksforgeeks.org/\")\n",
    "soup=BeautifulSoup(page.content,'lxml')\n",
    "print(soup.prettify())"
   ]
  },
  {
   "cell_type": "code",
   "execution_count": null,
   "id": "f50126b9",
   "metadata": {},
   "outputs": [],
   "source": [
    "import shutil\n",
    "#seaarch for images\n",
    "images=soup.find_all('img')\n",
    "\n",
    "#open a file to save the photos in\n",
    "f=open(\"images.txt\",\"w\")\n",
    "\n",
    "#looping through images\n",
    "for img in images:\n",
    "    print(img['src'])\n",
    "    f.write(img['src'])\n",
    "    f.write(\"\\n\")\n",
    "\n",
    "f.close()\n",
    "\n"
   ]
  },
  {
   "cell_type": "code",
   "execution_count": null,
   "id": "ee643261",
   "metadata": {},
   "outputs": [],
   "source": [
    "import requests # request img from web\n",
    "import shutil # save img locally\n",
    "\n",
    "\n",
    "\n",
    "#open the images file \n",
    "with open('images.txt','r') as f:\n",
    "    #loop through links in the files\n",
    "    for i in f:\n",
    "        url = i.strip() #remove spaces\n",
    "        print(i)\n",
    "        \n",
    "        file_name = input('name') #prompt user for file_name\n",
    "     \n",
    "\n",
    "        res = requests.get(url, stream = True) #get the url\n",
    "\n",
    "        if res.status_code == 200:\n",
    "            with open(file_name,'wb') as r:\n",
    "                    shutil.copyfileobj(res.raw, r) #save image in the file\n",
    "                    print('Image sucessfully Downloaded: ',file_name)\n",
    "        else:\n",
    "                    print('Image Couldn\\'t be retrieved')"
   ]
  },
  {
   "cell_type": "code",
   "execution_count": null,
   "id": "eac49b51",
   "metadata": {},
   "outputs": [],
   "source": []
  }
 ],
 "metadata": {
  "kernelspec": {
   "display_name": "Python 3 (ipykernel)",
   "language": "python",
   "name": "python3"
  },
  "language_info": {
   "codemirror_mode": {
    "name": "ipython",
    "version": 3
   },
   "file_extension": ".py",
   "mimetype": "text/x-python",
   "name": "python",
   "nbconvert_exporter": "python",
   "pygments_lexer": "ipython3",
   "version": "3.9.12"
  }
 },
 "nbformat": 4,
 "nbformat_minor": 5
}
