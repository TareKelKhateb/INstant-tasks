{
 "cells": [
  {
   "cell_type": "code",
   "execution_count": null,
   "id": "45cee6d7",
   "metadata": {},
   "outputs": [],
   "source": [
    "print(\"sadasda\")\n"
   ]
  },
  {
   "cell_type": "code",
   "execution_count": null,
   "id": "c83c0d75",
   "metadata": {},
   "outputs": [],
   "source": [
    "#getting -------------url-----------------\n",
    "import requests\n",
    "page=requests.get(\"https://coreyms.com/\")\n",
    "\n",
    "from bs4 import BeautifulSoup\n",
    "soup=BeautifulSoup(page.content,\"html.parser\")\n",
    "\n",
    "articles=soup.find_all(\"article\")"
   ]
  },
  {
   "cell_type": "code",
   "execution_count": null,
   "id": "ea39d658",
   "metadata": {},
   "outputs": [],
   "source": [
    "#list to save each element \n",
    "title_list=[]\n",
    "title_link_list=[]\n",
    "summary_list=[]\n",
    "yotube_link_list=[]\n",
    "\n",
    "#looping through html code\n",
    "for article in articles:\n",
    "    title=article.find(\"a\")\n",
    "    title_link=title[\"href\"]\n",
    "    summary=article.find(\"div\",class_=\"entry-content\").p\n",
    "    title_list.append(title.text)\n",
    "    summary_list.append(summary.text)\n",
    "    title_link_list.append(title_link)\n",
    "    #see if there is  youtube link or not \n",
    "    try:\n",
    "        yo_link=\"\"\n",
    "        yo_link=article.find(\"iframe\",class_=\"youtube-player\")\n",
    "        yotube_link=yo_link[\"src\"]\n",
    "    except :\n",
    "        yotube_link=\"NONE\"\n",
    "        \n",
    "    yotube_link_list.append(yotube_link)\n",
    "    \n",
    "    print(yotube_link)\n",
    "    print()\n",
    "    print()\n",
    "    print()\n",
    "    "
   ]
  },
  {
   "cell_type": "code",
   "execution_count": null,
   "id": "930f5568",
   "metadata": {},
   "outputs": [],
   "source": [
    "#open csv file and save data\n",
    "with open ('articles.csv','w',encoding='UTF8') as f:\n",
    "    writer =csv.writer(f)\n",
    "    writer.writerow([\"title\",\"article link\",\"summary\",\"Youtube link\"])\n",
    "    for i in range(0,len(title_list)):\n",
    "        writer.writerow([title_list[i],title_link_list[i],summary_list[i],yotube_link_list[i]])\n",
    "        "
   ]
  },
  {
   "cell_type": "code",
   "execution_count": null,
   "id": "390d84e4",
   "metadata": {},
   "outputs": [],
   "source": [
    "#list the data using pandas\n",
    "import pandas as pd\n",
    "dataFrame = pd.read_csv('articles.csv')\n",
    "dataFrame"
   ]
  },
  {
   "cell_type": "code",
   "execution_count": null,
   "id": "5efa3737",
   "metadata": {},
   "outputs": [],
   "source": []
  },
  {
   "cell_type": "code",
   "execution_count": null,
   "id": "ac04d9cc",
   "metadata": {},
   "outputs": [],
   "source": []
  },
  {
   "cell_type": "code",
   "execution_count": null,
   "id": "3e3e426c",
   "metadata": {},
   "outputs": [],
   "source": [
    "\n"
   ]
  }
 ],
 "metadata": {
  "kernelspec": {
   "display_name": "Python 3 (ipykernel)",
   "language": "python",
   "name": "python3"
  },
  "language_info": {
   "codemirror_mode": {
    "name": "ipython",
    "version": 3
   },
   "file_extension": ".py",
   "mimetype": "text/x-python",
   "name": "python",
   "nbconvert_exporter": "python",
   "pygments_lexer": "ipython3",
   "version": "3.9.12"
  }
 },
 "nbformat": 4,
 "nbformat_minor": 5
}
