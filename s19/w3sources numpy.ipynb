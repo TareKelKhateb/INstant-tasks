{
 "cells": [
  {
   "cell_type": "code",
   "execution_count": 3,
   "id": "e4bae301",
   "metadata": {},
   "outputs": [
    {
     "name": "stdout",
     "output_type": "stream",
     "text": [
      "no\n"
     ]
    }
   ],
   "source": [
    "#1\n",
    "#Write a NumPy program to test whether any of the elements of a given array is non-zero\n",
    "\n",
    "import numpy as np\n",
    "\n",
    "arr=np.array([[1,2,3,4],[2,2,3,5]])\n",
    "\n",
    "found =False\n",
    "for i in np.nditer(arr):\n",
    "    if i == 0:\n",
    "        found =True\n",
    "\n",
    "if(found==True):\n",
    "    print(\"yes\")\n",
    "else:\n",
    "    print(\"no\")\n",
    "    "
   ]
  },
  {
   "cell_type": "code",
   "execution_count": 4,
   "id": "4e14a4fd",
   "metadata": {},
   "outputs": [
    {
     "name": "stdout",
     "output_type": "stream",
     "text": [
      "Original array\n",
      "[ 1.  0. nan inf]\n",
      "Test a given array element-wise for finiteness :\n",
      "[ True  True False False]\n"
     ]
    }
   ],
   "source": [
    "#2\n",
    "#Write a NumPy program to test a given array element-wise for finiteness\n",
    "import numpy as np\n",
    "a = np.array([1, 0, np.nan, np.inf])\n",
    "print(\"Original array\")\n",
    "print(a)\n",
    "print(\"Test a given array element-wise for finiteness :\")\n",
    "print(np.isfinite(a))\n"
   ]
  },
  {
   "cell_type": "code",
   "execution_count": 5,
   "id": "3c178795",
   "metadata": {},
   "outputs": [
    {
     "name": "stdout",
     "output_type": "stream",
     "text": [
      "Original array:\n",
      "[  1   7  13 105]\n",
      "Size of the memory occupied by the said array:\n",
      "16 bytes\n"
     ]
    }
   ],
   "source": [
    "#3\n",
    "#Write a NumPy program to create an array with the values 1, 7, 13, 105 and determine the size of the memory occupied by the array memory occupied by the arr\n",
    "\n",
    "import numpy as np\n",
    "X = np.array([1, 7, 13, 105])\n",
    "print(\"Original array:\")\n",
    "print(X)\n",
    "print(\"Size of the memory occupied by the said array:\")\n",
    "print(\"%d bytes\" % (X.size * X.itemsize))"
   ]
  },
  {
   "cell_type": "code",
   "execution_count": 8,
   "id": "7ac8b89c",
   "metadata": {},
   "outputs": [
    {
     "name": "stdout",
     "output_type": "stream",
     "text": [
      "[[1 0 0]\n",
      " [0 1 0]\n",
      " [0 0 1]]\n"
     ]
    }
   ],
   "source": [
    "#4\n",
    "#Write a NumPy program to create a 3x3 identity matrix\n",
    "arr=np.identity(3,dtype=\"i\")\n",
    "print(arr)"
   ]
  },
  {
   "cell_type": "code",
   "execution_count": 9,
   "id": "4b56dbab",
   "metadata": {},
   "outputs": [
    {
     "name": "stdout",
     "output_type": "stream",
     "text": [
      "[ 0.07576612 -0.00338941 -0.21279406 -0.09846137 -0.69513422  1.51370736\n",
      "  0.72248351 -0.31473058 -1.19300271 -1.35594567  1.021824   -0.34303136\n",
      " -0.08664747  1.27437522  1.00618774]\n"
     ]
    }
   ],
   "source": [
    "#5\n",
    "#Write a NumPy program to generate an array of 15 random numbers from a standard normal distribution\n",
    "rand=np.random.normal(0,1,15)\n",
    "print(rand)"
   ]
  },
  {
   "cell_type": "code",
   "execution_count": 11,
   "id": "0d7c1a27",
   "metadata": {},
   "outputs": [
    {
     "data": {
      "text/plain": [
       "array([16, 17, 18, 19, 20, 21, 22, 23, 24, 25, 26, 27, 28, 29, 30, 31, 32,\n",
       "       33, 34, 35, 36, 37, 38, 39, 40, 41, 42, 43, 44, 45, 46, 47, 48, 49,\n",
       "       50, 51, 52, 53, 54], dtype=int32)"
      ]
     },
     "execution_count": 11,
     "metadata": {},
     "output_type": "execute_result"
    }
   ],
   "source": [
    "#6\n",
    "#. Write a NumPy program to create a vector with values ranging from 15 to 55 and print all values except the first and last.\n",
    "arr=np.array(range(15,56),dtype=\"i\")\n",
    "arr[1:-1]"
   ]
  },
  {
   "cell_type": "code",
   "execution_count": 15,
   "id": "f95ad128",
   "metadata": {},
   "outputs": [
    {
     "name": "stdout",
     "output_type": "stream",
     "text": [
      "[[ 0  1  2  3]\n",
      " [ 4  5  6  7]\n",
      " [ 8  9 10 11]]\n",
      "0\n",
      "1\n",
      "2\n",
      "3\n",
      "4\n",
      "5\n",
      "6\n",
      "7\n",
      "8\n",
      "9\n",
      "10\n",
      "11\n"
     ]
    }
   ],
   "source": [
    "#7\n",
    "import numpy as np\n",
    "#Write a NumPy program to create a 3X4 array using and iterate over it\n",
    "arr=np.array(range(0,12),dtype=\"i\")\n",
    "ar=arr.reshape(3,4)\n",
    "print(ar)\n",
    "for i in np.nditer(ar):\n",
    "    print(i)"
   ]
  },
  {
   "cell_type": "code",
   "execution_count": 16,
   "id": "7c3314b0",
   "metadata": {},
   "outputs": [
    {
     "data": {
      "text/plain": [
       "array([10.  , 19.75, 29.5 , 39.25, 49.  ])"
      ]
     },
     "execution_count": 16,
     "metadata": {},
     "output_type": "execute_result"
    }
   ],
   "source": [
    "#8\n",
    "#Write a NumPy program to create a vector of length 10 with values ​​evenly distributed between 5 and 50.\n",
    "v=np.linspace(10,49,5)\n",
    "v"
   ]
  },
  {
   "cell_type": "code",
   "execution_count": 25,
   "id": "2f4f00ef",
   "metadata": {},
   "outputs": [
    {
     "data": {
      "text/plain": [
       "array([  0,   1,   2,   3,   4,   5,   6,   7,   8,  -9, -10, -11, -12,\n",
       "       -13, 100, -15,  16,  17,  18,  19,  20], dtype=int32)"
      ]
     },
     "execution_count": 25,
     "metadata": {},
     "output_type": "execute_result"
    }
   ],
   "source": [
    "#9\n",
    "#Write a NumPy program to create a vector with values from 0 to 20 and change the sign of the numbers in the range from 9 to 15.\n",
    "#arr=np.arange(21)\n",
    "arr=np.array(range(0,21),dtype=\"i\")\n",
    "arr[14]=100\n",
    "arr[(arr>=9) & (arr<=15)]*=-1\n",
    "arr"
   ]
  },
  {
   "cell_type": "code",
   "execution_count": 26,
   "id": "104e0cbc",
   "metadata": {},
   "outputs": [
    {
     "data": {
      "text/plain": [
       "array([1, 1, 4, 8, 9])"
      ]
     },
     "execution_count": 26,
     "metadata": {},
     "output_type": "execute_result"
    }
   ],
   "source": [
    "#10\n",
    "#rite a NumPy program to create a vector of length 5 filled with arbitrary integers from 0 to 10\n",
    "arr=np.random.randint(0,11,5)\n",
    "arr\n"
   ]
  },
  {
   "cell_type": "code",
   "execution_count": 28,
   "id": "992296e4",
   "metadata": {},
   "outputs": [
    {
     "data": {
      "text/plain": [
       "array([ 0.,  0.,  0.,  0.,  0., 11.,  0.,  0.,  0.,  0.])"
      ]
     },
     "execution_count": 28,
     "metadata": {},
     "output_type": "execute_result"
    }
   ],
   "source": [
    "#11\n",
    "# Write a NumPy program to create a null vector of size 10 and update sixth value to 11\n",
    "arr=np.zeros(10)\n",
    "arr[5]=11\n",
    "arr"
   ]
  },
  {
   "cell_type": "code",
   "execution_count": 31,
   "id": "6dd39795",
   "metadata": {},
   "outputs": [
    {
     "data": {
      "text/plain": [
       "array([[1., 1., 1., 1., 1.],\n",
       "       [1., 0., 0., 0., 1.],\n",
       "       [1., 0., 0., 0., 1.],\n",
       "       [1., 0., 0., 0., 1.],\n",
       "       [1., 1., 1., 1., 1.]])"
      ]
     },
     "execution_count": 31,
     "metadata": {},
     "output_type": "execute_result"
    }
   ],
   "source": [
    "#12\n",
    "#Write a NumPy program to create a 2d array with 1 on the border and 0 inside\n",
    "a=np.ones((5,5))\n",
    "a[1:-1,1:-1]=0\n",
    "a"
   ]
  },
  {
   "cell_type": "code",
   "execution_count": 33,
   "id": "678a5753",
   "metadata": {},
   "outputs": [
    {
     "data": {
      "text/plain": [
       "array([[0., 1., 0., 1., 0., 1., 0., 1.],\n",
       "       [0., 1., 0., 1., 0., 1., 0., 1.],\n",
       "       [0., 1., 0., 1., 0., 1., 0., 1.],\n",
       "       [0., 1., 0., 1., 0., 1., 0., 1.],\n",
       "       [0., 1., 0., 1., 0., 1., 0., 1.],\n",
       "       [0., 1., 0., 1., 0., 1., 0., 1.],\n",
       "       [0., 1., 0., 1., 0., 1., 0., 1.],\n",
       "       [0., 1., 0., 1., 0., 1., 0., 1.]])"
      ]
     },
     "execution_count": 33,
     "metadata": {},
     "output_type": "execute_result"
    }
   ],
   "source": [
    "#13\n",
    "#Write a NumPy program to create a 8x8 matrix and fill it with a checkerboard pattern\n",
    "a=np.zeros((8,8))\n",
    "a[:,1::2]=1\n",
    "a"
   ]
  },
  {
   "cell_type": "code",
   "execution_count": 37,
   "id": "8f53cf10",
   "metadata": {},
   "outputs": [
    {
     "name": "stdout",
     "output_type": "stream",
     "text": [
      "[[1.00383098e-311 3.16202013e-322 0.00000000e+000 0.00000000e+000]\n",
      " [7.56587583e-307 2.75218430e+180 2.35783938e+184 1.20183186e-075]\n",
      " [8.82783567e+169 1.22523577e-046 7.61075959e-042 9.59373587e-071]]\n",
      "[[6 6 6]\n",
      " [6 6 6]\n",
      " [6 6 6]]\n"
     ]
    }
   ],
   "source": [
    "#14\n",
    "#Write a NumPy program to create an empty and a full array.\n",
    "\n",
    "f=np.empty((3,4))\n",
    "\n",
    "y=np.full((3,3),6)\n",
    "print(f)\n",
    "print(y)"
   ]
  },
  {
   "cell_type": "code",
   "execution_count": 43,
   "id": "dedfa7e1",
   "metadata": {},
   "outputs": [
    {
     "data": {
      "text/plain": [
       "array([ True,  True,  True, False])"
      ]
     },
     "execution_count": 43,
     "metadata": {},
     "output_type": "execute_result"
    }
   ],
   "source": [
    "#15\n",
    "#Write a NumPy program to test whether each element of a 1-D array is also present in a second array\n",
    "a=np.array([1,2,3,4])\n",
    "b=np.array([1,2,3,6])\n",
    "np.in1d(a,b)\n",
    "\n",
    "#for i in a:\n",
    " #   if b[]"
   ]
  },
  {
   "cell_type": "code",
   "execution_count": 44,
   "id": "dff9d6b7",
   "metadata": {},
   "outputs": [
    {
     "data": {
      "text/plain": [
       "array([1, 2, 3, 4, 5])"
      ]
     },
     "execution_count": 44,
     "metadata": {},
     "output_type": "execute_result"
    }
   ],
   "source": [
    "#16\n",
    "#Write a NumPy program to get the unique elements of an array\n",
    "\n",
    "a=np.array([1,2,3,4,5,1,2,3])\n",
    "x=np.unique(a)\n",
    "x"
   ]
  },
  {
   "cell_type": "code",
   "execution_count": 45,
   "id": "54ec0ede",
   "metadata": {},
   "outputs": [
    {
     "data": {
      "text/plain": [
       "array([0, 0, 0, 0])"
      ]
     },
     "execution_count": 45,
     "metadata": {},
     "output_type": "execute_result"
    }
   ],
   "source": [
    "#17\n",
    "#difference\n",
    "\n",
    "a=np.arange(4)\n",
    "b=np.arange(4)\n",
    "x=np.subtract(a,b)\n",
    "x"
   ]
  },
  {
   "cell_type": "code",
   "execution_count": 46,
   "id": "2d7a44e7",
   "metadata": {},
   "outputs": [
    {
     "data": {
      "text/plain": [
       "array([0, 1, 2, 3, 4, 5, 6, 7, 8, 9])"
      ]
     },
     "execution_count": 46,
     "metadata": {},
     "output_type": "execute_result"
    }
   ],
   "source": [
    "#18\n",
    "#Write a NumPy program to find the union of two arrays. Union will return the unique, sorted array of values that are in either of the two input arrays.\n",
    "a=np.arange(10)\n",
    "b=np.arange(4)\n",
    "x=np.union1d(a,b)\n",
    "x"
   ]
  },
  {
   "cell_type": "code",
   "execution_count": 49,
   "id": "228377ef",
   "metadata": {},
   "outputs": [
    {
     "name": "stdout",
     "output_type": "stream",
     "text": [
      "True\n",
      "False\n"
     ]
    }
   ],
   "source": [
    "#19\n",
    "#Write a NumPy program to test whether any array element along a given axis evaluates to True.\n",
    "#Note: 0 evaluates to False in python.\n",
    "\n",
    "print(np.any([1,1,1,0]))\n",
    "print(np.any([0,0,0]))"
   ]
  },
  {
   "cell_type": "code",
   "execution_count": 51,
   "id": "db2e7a8a",
   "metadata": {},
   "outputs": [
    {
     "data": {
      "text/plain": [
       "array([1, 1, 1, 2, 2, 2, 3, 3, 3, 4, 4, 4], dtype=int32)"
      ]
     },
     "execution_count": 51,
     "metadata": {},
     "output_type": "execute_result"
    }
   ],
   "source": [
    "#20\n",
    "#Write a NumPy program to repeat elements of an array.\n",
    "ar=np.array([1,2,3,4],dtype=\"i\")\n",
    "x=np.repeat(ar,3)\n",
    "x"
   ]
  },
  {
   "cell_type": "code",
   "execution_count": 52,
   "id": "b7c7830b",
   "metadata": {},
   "outputs": [
    {
     "data": {
      "text/plain": [
       "array([11, 12, 13, 14, 15, 16, 17, 18, 19])"
      ]
     },
     "execution_count": 52,
     "metadata": {},
     "output_type": "execute_result"
    }
   ],
   "source": [
    "#21\n",
    "#Write a NumPy program to get the values and indices of the elements that are bigger than 10 in a given array.\n",
    "ar=np.arange(20)\n",
    "x=ar[ar>10]\n",
    "x"
   ]
  },
  {
   "cell_type": "code",
   "execution_count": 53,
   "id": "b939ff82",
   "metadata": {},
   "outputs": [
    {
     "name": "stdout",
     "output_type": "stream",
     "text": [
      "[[ 7 10]\n",
      " [15 22]]\n"
     ]
    }
   ],
   "source": [
    "#22\n",
    "#Write a NumPy program to compute the multiplication of two given matrixes\n",
    "a=[[1,2],[3,4]]\n",
    "b=[[1,2],[3,4]]\n",
    "\n",
    "x=np.product\n",
    "print(x)"
   ]
  },
  {
   "cell_type": "code",
   "execution_count": 54,
   "id": "4f126cad",
   "metadata": {},
   "outputs": [
    {
     "name": "stdout",
     "output_type": "stream",
     "text": [
      "original matrix:\n",
      "[[1, 0], [0, 1]]\n",
      "[[1, 2], [3, 4]]\n",
      "Outer product of the said two vectors:\n",
      "[[1 2 3 4]\n",
      " [0 0 0 0]\n",
      " [0 0 0 0]\n",
      " [1 2 3 4]]\n"
     ]
    }
   ],
   "source": [
    "#23\n",
    "#Write a NumPy program to compute the outer product of two given matrixes\n",
    "\n",
    "import numpy as np\n",
    "p = [[1, 0], [0, 1]]\n",
    "q = [[1, 2], [3, 4]]\n",
    "print(\"original matrix:\")\n",
    "print(p)\n",
    "print(q)\n",
    "result = np.outer(p, q)\n",
    "print(\"Outer product of the said two vectors:\")\n",
    "print(result)"
   ]
  },
  {
   "cell_type": "code",
   "execution_count": 55,
   "id": "ba030a8c",
   "metadata": {},
   "outputs": [
    {
     "name": "stdout",
     "output_type": "stream",
     "text": [
      "original matrix:\n",
      "[[1, 0], [0, 1]]\n",
      "[[1, 2], [3, 4]]\n",
      "cross product of the said two vectors(p, q):\n",
      "[ 2 -3]\n",
      "cross product of the said two vectors(q, p):\n",
      "[-2  3]\n"
     ]
    }
   ],
   "source": [
    "#24\n",
    "##Write a NumPy program to compute the cross product of two given matrixes\n",
    "\n",
    "import numpy as np\n",
    "p = [[1, 0], [0, 1]]\n",
    "q = [[1, 2], [3, 4]]\n",
    "print(\"original matrix:\")\n",
    "print(p)\n",
    "print(q)\n",
    "result1 = np.cross(p, q)\n",
    "result2 = np.cross(q, p)\n",
    "print(\"cross product of the said two vectors(p, q):\")\n",
    "print(result1)\n",
    "print(\"cross product of the said two vectors(q, p):\")\n",
    "print(result2)"
   ]
  },
  {
   "cell_type": "code",
   "execution_count": 56,
   "id": "16efdb3d",
   "metadata": {},
   "outputs": [
    {
     "data": {
      "text/plain": [
       "array([[2, 2, 2, 2, 2],\n",
       "       [2, 2, 2, 2, 2],\n",
       "       [2, 2, 2, 2, 2]])"
      ]
     },
     "execution_count": 56,
     "metadata": {},
     "output_type": "execute_result"
    }
   ],
   "source": [
    "#25\n",
    "#Write a NumPy program to create a new array of 3*5, filled with 2\n",
    "\n",
    "ar=np.full((3,5),2)\n",
    "ar"
   ]
  },
  {
   "cell_type": "code",
   "execution_count": 57,
   "id": "860d2061",
   "metadata": {},
   "outputs": [
    {
     "data": {
      "text/plain": [
       "array([[1, 2, 3],\n",
       "       [4, 5, 6]])"
      ]
     },
     "execution_count": 57,
     "metadata": {},
     "output_type": "execute_result"
    }
   ],
   "source": [
    "#26\n",
    "#Write a NumPy program to create a new shape to an array without changing its data. Go to the editor\n",
    "\n",
    "ar=[[1,2],[3,4],[5,6]]\n",
    "x=np.reshape(ar,(2,3))\n",
    "x"
   ]
  },
  {
   "cell_type": "code",
   "execution_count": 58,
   "id": "a2b4c0f5",
   "metadata": {},
   "outputs": [
    {
     "name": "stdout",
     "output_type": "stream",
     "text": [
      "[ 0  1  2  3  4  5  6  7  8  9 10 11 12 13 14 15 16 17 18 19 20 21 22 23\n",
      " 24 25 26 27 28 29 30 31 32 33 34 35 36 37 38 39 40 41 42 43 44 45 46 47\n",
      " 48 49 50]\n",
      "[10 11 12 13 14 15 16 17 18 19 20 21 22 23 24 25 26 27 28 29 30 31 32 33\n",
      " 34 35 36 37 38 39 40 41 42 43 44 45 46 47 48 49 50]\n"
     ]
    }
   ],
   "source": [
    "#27\n",
    "# Write a NumPy program to create a 1-D array going from 0 to 50 and an array from 10 to 50\n",
    "\n",
    "a=np.arange(51)\n",
    "b=np.array(range(10,51),dtype=\"i\")\n",
    "\n",
    "print(a)\n",
    "print(b)"
   ]
  },
  {
   "cell_type": "code",
   "execution_count": 59,
   "id": "3a8ad28e",
   "metadata": {},
   "outputs": [
    {
     "name": "stdout",
     "output_type": "stream",
     "text": [
      "[[0 1 2]\n",
      " [3 4 5]\n",
      " [6 7 8]]\n",
      "[0 1 2 3 4 5 6 7 8]\n"
     ]
    }
   ],
   "source": [
    "#28\n",
    "# Write a NumPy program to collapse a 3-D array into one dimension array.\n",
    "\n",
    "arr=np.arange(9)\n",
    "arr=np.reshape(arr,(3,3))\n",
    "print(arr)\n",
    "arr=np.reshape(arr,-1)\n",
    "print(arr)"
   ]
  },
  {
   "cell_type": "code",
   "execution_count": 61,
   "id": "0c1ad947",
   "metadata": {},
   "outputs": [
    {
     "name": "stdout",
     "output_type": "stream",
     "text": [
      "(1, 4, 2, 3)\n"
     ]
    }
   ],
   "source": [
    "#29\n",
    "#write a NumPy program to move the specified axis backwards, until it lies in a given position\n",
    "\n",
    "arr=np.ones((1,2,3,4))\n",
    "print(np.rollaxis(arr,3,1).shape)"
   ]
  },
  {
   "cell_type": "code",
   "execution_count": 70,
   "id": "2bdacb7b",
   "metadata": {},
   "outputs": [
    {
     "name": "stdout",
     "output_type": "stream",
     "text": [
      "Original array: [[ 0  1  2  3]\n",
      " [ 4  5  6  7]\n",
      " [ 8  9 10 11]\n",
      " [12 13 14 15]]\n",
      "After splitting horizontally:\n",
      "[array([[ 0,  1],\n",
      "       [ 4,  5],\n",
      "       [ 8,  9],\n",
      "       [12, 13]]), array([[ 2,  3],\n",
      "       [ 6,  7],\n",
      "       [10, 11],\n",
      "       [14, 15]]), array([], shape=(4, 0), dtype=int32)]\n"
     ]
    }
   ],
   "source": [
    "#30\n",
    "#Write a NumPy program to split of an array of shape 4x4 it into two arrays along the second axis.\n",
    "import numpy as np\n",
    "x = np.arange(16).reshape((4, 4))\n",
    "print(\"Original array:\",x)\n",
    "print(\"After splitting horizontally:\")\n",
    "print(np.hsplit(x, [2, 6]))\n"
   ]
  },
  {
   "cell_type": "code",
   "execution_count": 71,
   "id": "c4646d37",
   "metadata": {},
   "outputs": [
    {
     "data": {
      "text/plain": [
       "array([-1.75910306, -1.59569494, -1.85827978,  1.06897917, -0.64656355])"
      ]
     },
     "execution_count": 71,
     "metadata": {},
     "output_type": "execute_result"
    }
   ],
   "source": [
    "#31\n",
    "#Write a NumPy program to generate five random numbers from the normal distribution.\n",
    "\n",
    "arr=np.random.normal(size=5)\n",
    "arr"
   ]
  },
  {
   "cell_type": "code",
   "execution_count": 83,
   "id": "e6b7ef37",
   "metadata": {},
   "outputs": [
    {
     "data": {
      "text/plain": [
       "array([[[0.99530526, 0.39959944, 0.84563896],\n",
       "        [0.16966647, 0.64009955, 0.1810365 ],\n",
       "        [0.67354745, 0.54316848, 0.15398902]],\n",
       "\n",
       "       [[0.87334689, 0.05963598, 0.31102601],\n",
       "        [0.11670427, 0.11147699, 0.37686094],\n",
       "        [0.04472371, 0.22145462, 0.08869204]],\n",
       "\n",
       "       [[0.68008023, 0.25238907, 0.34273995],\n",
       "        [0.72015745, 0.25337629, 0.13214847],\n",
       "        [0.95525245, 0.35781285, 0.02555956]]])"
      ]
     },
     "execution_count": 83,
     "metadata": {},
     "output_type": "execute_result"
    }
   ],
   "source": [
    "#32\n",
    "#. Write a NumPy program to generate six random integers between 10 and 30. Go to the editor\n",
    "\n",
    "arr=np.random.rand(3,3,3)\n",
    "arr"
   ]
  },
  {
   "cell_type": "code",
   "execution_count": 90,
   "id": "c3f76b2a",
   "metadata": {},
   "outputs": [
    {
     "name": "stdout",
     "output_type": "stream",
     "text": [
      "[[[0.9012879  0.41705122 0.33458662 0.33275575 0.58290835]\n",
      "  [0.66214487 0.55218165 0.33439507 0.4200178  0.58087449]\n",
      "  [0.69964938 0.99807986 0.17258565 0.53574633 0.35195823]\n",
      "  [0.20535191 0.4962716  0.79920174 0.73394278 0.17749688]\n",
      "  [0.29707674 0.6372668  0.39912514 0.06623466 0.80073698]]\n",
      "\n",
      " [[0.38309501 0.57793015 0.78213464 0.09475964 0.03480797]\n",
      "  [0.16529331 0.9731419  0.39323468 0.96308512 0.35326443]\n",
      "  [0.08752411 0.0071442  0.68828126 0.49018015 0.63474642]\n",
      "  [0.91425867 0.47553408 0.96474098 0.90492993 0.43830949]\n",
      "  [0.35419467 0.12043002 0.51387013 0.49071836 0.72259044]]\n",
      "\n",
      " [[0.1623054  0.30767029 0.19550239 0.89048477 0.5987594 ]\n",
      "  [0.38047108 0.52227159 0.31413214 0.25635002 0.45470164]\n",
      "  [0.92565    0.18650297 0.93804173 0.16931874 0.60148191]\n",
      "  [0.89135983 0.66357203 0.49799293 0.39157182 0.18998163]\n",
      "  [0.91478743 0.60272051 0.04692418 0.52305723 0.93829733]]\n",
      "\n",
      " [[0.75577559 0.13272669 0.89284435 0.96730028 0.02603899]\n",
      "  [0.78086109 0.21732362 0.79481583 0.91205745 0.9519833 ]\n",
      "  [0.53046186 0.93472413 0.52677512 0.96560052 0.01417977]\n",
      "  [0.37859638 0.32266639 0.67886277 0.53225725 0.03769913]\n",
      "  [0.57052141 0.37661324 0.09215932 0.47702628 0.17048153]]\n",
      "\n",
      " [[0.37938775 0.81199736 0.13072079 0.69989448 0.56160956]\n",
      "  [0.25251308 0.64695164 0.81446188 0.99158952 0.16193076]\n",
      "  [0.0493138  0.85508356 0.626912   0.94467927 0.92096764]\n",
      "  [0.97018345 0.77185437 0.42224764 0.9118519  0.65347854]\n",
      "  [0.20071265 0.64969211 0.24471672 0.29754874 0.45276385]]]\n",
      "0.9980798586228479\n",
      "0.9980798586228479\n"
     ]
    }
   ],
   "source": [
    "#33\n",
    "#Write a NumPy program to create a 5x5 array with random values and find the minimum and maximum values.\n",
    "\n",
    "arr=np.random.rand(5,5,5)\n",
    "print(arr)\n",
    "print(arr.max())\n",
    "print(arr.max())\n"
   ]
  },
  {
   "cell_type": "code",
   "execution_count": 96,
   "id": "4f80c979",
   "metadata": {},
   "outputs": [
    {
     "name": "stdout",
     "output_type": "stream",
     "text": [
      "[5 4 0 9 2 3 6 1 8 7]\n"
     ]
    }
   ],
   "source": [
    "#34\n",
    "# Write a NumPy program to shuffle numbers between 0 and 10 (inclusive\n",
    "a=np.array(range(0,10),dtype=\"i\")\n",
    "\n",
    "x=np.random.permutation(a)\n",
    "print(x)\n"
   ]
  },
  {
   "cell_type": "code",
   "execution_count": 101,
   "id": "9602a989",
   "metadata": {},
   "outputs": [
    {
     "name": "stdout",
     "output_type": "stream",
     "text": [
      "[0.0421019  0.2388386  0.37022314 0.44858252 0.16787455 0.8857052\n",
      " 0.18461724 0.99586244 0.95832453 0.62926181]\n"
     ]
    },
    {
     "data": {
      "text/plain": [
       "[0.04210189659476593,\n",
       " 0.16787455490998848,\n",
       " 0.18461724188966877,\n",
       " 0.2388386001648346,\n",
       " 0.37022313994660316,\n",
       " 0.44858251911521596,\n",
       " 0.6292618068596303,\n",
       " 0.8857052039733124,\n",
       " 0.958324531839224,\n",
       " 0.9958624392480012]"
      ]
     },
     "execution_count": 101,
     "metadata": {},
     "output_type": "execute_result"
    }
   ],
   "source": [
    "#35\n",
    "#Write a NumPy program to create a random vector of size 10 and sort it\n",
    "a=np.random.random(10)\n",
    "print(a)\n",
    "sorted(a)"
   ]
  },
  {
   "cell_type": "code",
   "execution_count": 106,
   "id": "f045764c",
   "metadata": {},
   "outputs": [
    {
     "name": "stdout",
     "output_type": "stream",
     "text": [
      "[10.48916161  5.46285052  1.65292743  4.77069135  1.82676341  5.90363494\n",
      "  3.92586026  4.4448476   5.46026679  9.90634873]\n"
     ]
    },
    {
     "data": {
      "text/plain": [
       "3.9258602606222794"
      ]
     },
     "execution_count": 106,
     "metadata": {},
     "output_type": "execute_result"
    }
   ],
   "source": [
    "#36\n",
    "#Write a NumPy program to find the nearest value from a given value in an array\n",
    "x=np.random.uniform(1,12,10)\n",
    "print(x)\n",
    "v=4\n",
    "result=x.flat[np.abs(x-v).argmin()]\n",
    "result"
   ]
  },
  {
   "cell_type": "code",
   "execution_count": 120,
   "id": "8b0642b0",
   "metadata": {},
   "outputs": [
    {
     "data": {
      "text/plain": [
       "False"
      ]
     },
     "execution_count": 120,
     "metadata": {},
     "output_type": "execute_result"
    }
   ],
   "source": [
    "#37\n",
    "#Write a NumPy program to check two random arrays are equal or not\n",
    "\n",
    "a=np.random.randint(0,2,4)\n",
    "b=np.random.randint(0,2,4)\n",
    "\n",
    "r=np.allclose(a,b)\n",
    "r\n"
   ]
  },
  {
   "cell_type": "code",
   "execution_count": 123,
   "id": "fd39f9bd",
   "metadata": {},
   "outputs": [
    {
     "data": {
      "text/plain": [
       "array([ 0.55004991,  0.013185  ,  0.63972733,  0.20471316,  0.66599236,\n",
       "        0.05031982,  0.49728186,  0.12446068,  0.35097545, -1.        ,\n",
       "        0.06951142,  0.03094424,  0.00466368,  0.04987032,  0.72827279])"
      ]
     },
     "execution_count": 123,
     "metadata": {},
     "output_type": "execute_result"
    }
   ],
   "source": [
    "#38\n",
    "#Write a NumPy program to create random vector of size 15 and replace the maximum value by -1\n",
    "arr=np.random.random(15)\n",
    "arr[arr==arr.max()]=-1\n",
    "arr"
   ]
  },
  {
   "cell_type": "code",
   "execution_count": 130,
   "id": "5f5d5c79",
   "metadata": {},
   "outputs": [
    {
     "name": "stdout",
     "output_type": "stream",
     "text": [
      "[28 17  1  0 26  2 10 17  9 29  5 21 12  7 10  4 26  9  3 23 26 22 12 16\n",
      " 20  5 29  8  0 13]\n",
      "26\n",
      "[2 1 1 1 1 2 0 1 1 2 2 0 2 1 0 0 1 2 0 0 1 1 1 1 0 0 3 0 1 2]\n"
     ]
    }
   ],
   "source": [
    "#39\n",
    "#Write a NumPy program to find the most frequent value in an array\n",
    "\n",
    "arr=np.random.randint(0,30,30)\n",
    "print(arr)\n",
    "print(np.bincount(arr).argmax())\n",
    "print(np.bincount(arr))\n"
   ]
  },
  {
   "cell_type": "code",
   "execution_count": 133,
   "id": "f7ac9dae",
   "metadata": {},
   "outputs": [
    {
     "name": "stdout",
     "output_type": "stream",
     "text": [
      "Original array:\n",
      "[0 1 2 3 4 5 6 7 8 9]\n",
      "[9]\n"
     ]
    }
   ],
   "source": [
    "#40\n",
    "#Write a NumPy program to get the n largest values of an array\n",
    "\n",
    "x = np.arange(10)\n",
    "print(\"Original array:\")\n",
    "print(x)\n",
    "np.random.shuffle(x)\n",
    "n = 1\n",
    "print (x[np.argsort(x)[-n:]])"
   ]
  },
  {
   "cell_type": "code",
   "execution_count": 139,
   "id": "8e76c180",
   "metadata": {},
   "outputs": [
    {
     "name": "stdout",
     "output_type": "stream",
     "text": [
      "[[1 4]\n",
      " [2 3]]\n",
      "[[3 1]\n",
      " [4 2]]\n"
     ]
    }
   ],
   "source": [
    "#41\n",
    "#Write a NumPy program to sort a given array of shape 2 along the first axis, last axis and on flattened array\n",
    "ar=np.array([[4,1],[3,2]],dtype=\"i\")\n",
    "x=np.sort(ar,axis=1)\n",
    "print(x)\n",
    "y=np.sort(ar,axis=0)\n",
    "print(y)"
   ]
  },
  {
   "cell_type": "code",
   "execution_count": 145,
   "id": "7dca2af1",
   "metadata": {},
   "outputs": [
    {
     "data": {
      "text/plain": [
       "array([(b'Pit', 5, 40.11), (b'James', 5, 42.1 ), (b'Paul', 5, 48.5 ),\n",
       "       (b'Nail', 6, 52.5 )],\n",
       "      dtype=[('name', 'S15'), ('class', '<i4'), ('height', '<f8')])"
      ]
     },
     "execution_count": 145,
     "metadata": {},
     "output_type": "execute_result"
    }
   ],
   "source": [
    "#42\n",
    "#Write a NumPy program to create a structured array from given student name, height, class and their data types. Now sort the array on heigh\n",
    "data_type = [('name', 'S15'), ('class', int), ('height', float)]\n",
    "sudents_details = [('Paul', 5, 48.5), ('Nail', 6, 52.5),('James', 5, 42.10), ('Pit', 5, 40.11)]\n",
    "\n",
    "\n",
    "\n",
    "s=np.array(sudents_details,dtype=data_type)\n",
    "re=np.sort(s,order='height')\n",
    "re"
   ]
  },
  {
   "cell_type": "code",
   "execution_count": 147,
   "id": "01d0c723",
   "metadata": {},
   "outputs": [
    {
     "data": {
      "text/plain": [
       "array([(b'Pit', 5, 40.11), (b'James', 5, 42.1 ), (b'Paul', 5, 48.5 ),\n",
       "       (b'Nail', 6, 52.5 )],\n",
       "      dtype=[('name', 'S15'), ('class', '<i4'), ('height', '<f8')])"
      ]
     },
     "execution_count": 147,
     "metadata": {},
     "output_type": "execute_result"
    }
   ],
   "source": [
    "#43\n",
    "# Write a NumPy program to create a structured array from given student name, height, class and their data types. Now sort by class, then height if class are equal\n",
    "data_type = [('name', 'S15'), ('class', int), ('height', float)]\n",
    "sudents_details = [('Paul', 5, 48.5), ('Nail', 6, 52.5),('James', 5, 42.10), ('Pit', 5, 40.11)]\n",
    "\n",
    "\n",
    "s=np.array(sudents_details,dtype=data_type)\n",
    "re=np.sort(s,order=['class','height'])\n",
    "re"
   ]
  },
  {
   "cell_type": "code",
   "execution_count": 150,
   "id": "be7d7fb9",
   "metadata": {},
   "outputs": [
    {
     "name": "stdout",
     "output_type": "stream",
     "text": [
      "[4 0 5 3 6 1 2]\n",
      "1682 38.0\n",
      "1023 40.0\n",
      "5241 40.0\n",
      "1671 41.0\n",
      "4532 42.0\n",
      "5202 42.0\n",
      "6230 45.0\n"
     ]
    }
   ],
   "source": [
    "#44\n",
    "#Write a NumPy program to sort the student id with increasing height of the students from given students id and height. Print the integer indices that describes the sort order by multiple columns and the sorted data.\n",
    "\n",
    "import numpy as np\n",
    "student_id = np.array([1023, 5202, 6230, 1671, 1682, 5241, 4532])\n",
    "student_height = np.array([40., 42., 45., 41., 38., 40., 42.0])\n",
    "\n",
    "ind=np.lexsort((student_id,student_height))\n",
    "print(ind)\n",
    "\n",
    "for n in ind:\n",
    "    print(student_id[n], student_height[n])"
   ]
  },
  {
   "cell_type": "code",
   "execution_count": 151,
   "id": "c303564e",
   "metadata": {},
   "outputs": [
    {
     "name": "stdout",
     "output_type": "stream",
     "text": [
      "Original array:\n",
      "[1023 5202 6230 1671 1682 5241 4532]\n",
      "Indices of the sorted elements of a given array:\n",
      "[0 3 4 6 1 5 2]\n"
     ]
    }
   ],
   "source": [
    "#45\n",
    "#Write a NumPy program to get the indices of the sorted elements of a given array\n",
    "\n",
    "import numpy as np\n",
    "student_id = np.array([1023, 5202, 6230, 1671, 1682, 5241, 4532])\n",
    "print(\"Original array:\")\n",
    "print(student_id)\n",
    "i = np.argsort(student_id)\n",
    "print(\"Indices of the sorted elements of a given array:\")\n",
    "print(i)"
   ]
  },
  {
   "cell_type": "code",
   "execution_count": 152,
   "id": "b33d596c",
   "metadata": {},
   "outputs": [
    {
     "name": "stdout",
     "output_type": "stream",
     "text": [
      "Original array:\n",
      "[ 70  50  20  30 -11  60  50  40]\n",
      "\n",
      "After partitioning on 4 the position:\n",
      "[-11  30  20  40  50  50  60  70]\n"
     ]
    }
   ],
   "source": [
    "#46\n",
    "#Write a NumPy program to partition a given array in a specified position and move all the smaller elements values to the left of the partition, and the remaining values to the right, in arbitrary order (based on random choice).\n",
    "\n",
    "import numpy as np\n",
    "nums = np.array([70, 50, 20, 30, -11, 60, 50, 40])\n",
    "print(\"Original array:\")\n",
    "print(nums)\n",
    "print(\"\\nAfter partitioning on 4 the position:\")\n",
    "print(np.partition(nums, 4))"
   ]
  },
  {
   "cell_type": "code",
   "execution_count": 153,
   "id": "bfa62914",
   "metadata": {},
   "outputs": [
    {
     "data": {
      "text/plain": [
       "array([0.13679861, 0.19064495, 0.30320112, 0.46233576, 0.80699726,\n",
       "       0.9597011 , 0.94679873])"
      ]
     },
     "execution_count": 153,
     "metadata": {},
     "output_type": "execute_result"
    }
   ],
   "source": [
    "#47\n",
    "#. Write a NumPy program to sort the specified number of elements from beginning of a given array\n",
    "\n",
    "arr=np.random.random(7)\n",
    "re=arr[np.argpartition(arr,range(5))]\n",
    "re"
   ]
  },
  {
   "cell_type": "code",
   "execution_count": 154,
   "id": "f8dbb1ae",
   "metadata": {},
   "outputs": [
    {
     "name": "stdout",
     "output_type": "stream",
     "text": [
      "Original array:\n",
      "\n",
      "[[4 2 5]\n",
      " [4 7 0]\n",
      " [8 8 7]]\n",
      "\n",
      "Sort the said array by the nth column: \n",
      "[[4 2 5]\n",
      " [4 7 0]\n",
      " [8 8 7]]\n"
     ]
    }
   ],
   "source": [
    "#48\n",
    "#Write a NumPy program to sort an given array by the nth column\n",
    "\n",
    "import numpy as np\n",
    "print(\"Original array:\\n\")\n",
    "nums = np.random.randint(0,10,(3,3))\n",
    "print(nums)\n",
    "print(\"\\nSort the said array by the nth column: \")\n",
    "print(nums[nums[:,1].argsort()])"
   ]
  },
  {
   "cell_type": "code",
   "execution_count": null,
   "id": "6052cde9",
   "metadata": {},
   "outputs": [],
   "source": [
    "#49\n",
    "#"
   ]
  }
 ],
 "metadata": {
  "kernelspec": {
   "display_name": "Python 3 (ipykernel)",
   "language": "python",
   "name": "python3"
  },
  "language_info": {
   "codemirror_mode": {
    "name": "ipython",
    "version": 3
   },
   "file_extension": ".py",
   "mimetype": "text/x-python",
   "name": "python",
   "nbconvert_exporter": "python",
   "pygments_lexer": "ipython3",
   "version": "3.9.12"
  }
 },
 "nbformat": 4,
 "nbformat_minor": 5
}
