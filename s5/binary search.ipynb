{
 "cells": [
  {
   "cell_type": "code",
   "execution_count": 12,
   "id": "1dc64917",
   "metadata": {},
   "outputs": [
    {
     "name": "stdout",
     "output_type": "stream",
     "text": [
      "enter the number 9\n",
      "num is not found\n"
     ]
    }
   ],
   "source": [
    "#assumed that is the list\n",
    "ls=[1,2,3,4,5,6,7,10]\n",
    "\n",
    "l=0\n",
    "r=len(ls)-1\n",
    "#the num  you want to search\n",
    "x=int(input(\"enter the number \"))\n",
    "fd=False\n",
    "while l<r:\n",
    "    mid=int((l+r)/2)\n",
    "    if(x==ls[mid]):\n",
    "        fd=True\n",
    "        break\n",
    "    elif x>ls[mid]:\n",
    "        l=mid+1\n",
    "    else:\n",
    "        r=mid-1\n",
    "        \n",
    "if fd==True:\n",
    "    print(\"number found\")\n",
    "else:\n",
    "    print(\"num is not found\")"
   ]
  },
  {
   "cell_type": "code",
   "execution_count": null,
   "id": "77a374a7",
   "metadata": {},
   "outputs": [],
   "source": []
  }
 ],
 "metadata": {
  "kernelspec": {
   "display_name": "Python 3 (ipykernel)",
   "language": "python",
   "name": "python3"
  },
  "language_info": {
   "codemirror_mode": {
    "name": "ipython",
    "version": 3
   },
   "file_extension": ".py",
   "mimetype": "text/x-python",
   "name": "python",
   "nbconvert_exporter": "python",
   "pygments_lexer": "ipython3",
   "version": "3.9.12"
  }
 },
 "nbformat": 4,
 "nbformat_minor": 5
}
