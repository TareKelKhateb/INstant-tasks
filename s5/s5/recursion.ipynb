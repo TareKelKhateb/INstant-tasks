{
 "cells": [
  {
   "cell_type": "code",
   "execution_count": 29,
   "id": "a89110d2",
   "metadata": {},
   "outputs": [
    {
     "name": "stdout",
     "output_type": "stream",
     "text": [
      "enter the number 5\n"
     ]
    },
    {
     "data": {
      "text/plain": [
       "15"
      ]
     },
     "execution_count": 29,
     "metadata": {},
     "output_type": "execute_result"
    }
   ],
   "source": [
    "#first exapmle\n",
    "#recursive method\n",
    "\n",
    "#sum of 0->n numbers\n",
    "n=int(input(\"enter the number\"))\n",
    "def total(x):\n",
    "    \n",
    "    if(x==1):\n",
    "        return 1\n",
    "    else:\n",
    "        return(x+total(x-1))\n",
    "    \n",
    "    \n",
    "total(n)"
   ]
  },
  {
   "cell_type": "code",
   "execution_count": 30,
   "id": "244a063b",
   "metadata": {},
   "outputs": [
    {
     "name": "stdout",
     "output_type": "stream",
     "text": [
      "enter the number5\n",
      "15\n"
     ]
    }
   ],
   "source": [
    "#iteratibe method\n",
    "t=0\n",
    "d=int(input(\"enter the number\"))\n",
    "for i in range(0,d+1):\n",
    "    t+=i\n",
    "    \n",
    "print(t)\n"
   ]
  },
  {
   "cell_type": "code",
   "execution_count": null,
   "id": "30bfd31b",
   "metadata": {},
   "outputs": [],
   "source": []
  }
 ],
 "metadata": {
  "kernelspec": {
   "display_name": "Python 3 (ipykernel)",
   "language": "python",
   "name": "python3"
  },
  "language_info": {
   "codemirror_mode": {
    "name": "ipython",
    "version": 3
   },
   "file_extension": ".py",
   "mimetype": "text/x-python",
   "name": "python",
   "nbconvert_exporter": "python",
   "pygments_lexer": "ipython3",
   "version": "3.9.12"
  }
 },
 "nbformat": 4,
 "nbformat_minor": 5
}
