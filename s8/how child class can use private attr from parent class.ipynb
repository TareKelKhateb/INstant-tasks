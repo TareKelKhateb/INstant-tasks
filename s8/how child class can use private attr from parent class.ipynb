{
 "cells": [
  {
   "cell_type": "code",
   "execution_count": 26,
   "id": "698e94e1",
   "metadata": {},
   "outputs": [
    {
     "name": "stdout",
     "output_type": "stream",
     "text": [
      "welcom we have\n",
      "13  free rooms\n"
     ]
    }
   ],
   "source": [
    "class hotel:\n",
    "    def __init__(self):\n",
    "        #private attr\n",
    "        self.__freerooms=13\n",
    "    #functions to call private attr\n",
    "    def get_freerooms(self):\n",
    "        return self.__freerooms\n",
    "#child class\n",
    "class user(hotel):\n",
    "    \n",
    "    def hi(self):\n",
    "        print(\"welcom we have\")\n",
    "        #call a func from parent class \n",
    "        print(self.get_freerooms(),\" free rooms\")\n",
    "a=user()\n",
    "a.hi()"
   ]
  },
  {
   "cell_type": "code",
   "execution_count": null,
   "id": "e2e24758",
   "metadata": {},
   "outputs": [],
   "source": []
  }
 ],
 "metadata": {
  "kernelspec": {
   "display_name": "Python 3 (ipykernel)",
   "language": "python",
   "name": "python3"
  },
  "language_info": {
   "codemirror_mode": {
    "name": "ipython",
    "version": 3
   },
   "file_extension": ".py",
   "mimetype": "text/x-python",
   "name": "python",
   "nbconvert_exporter": "python",
   "pygments_lexer": "ipython3",
   "version": "3.9.12"
  }
 },
 "nbformat": 4,
 "nbformat_minor": 5
}
