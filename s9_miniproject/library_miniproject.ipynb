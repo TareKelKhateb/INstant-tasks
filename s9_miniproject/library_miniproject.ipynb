{
 "cells": [
  {
   "cell_type": "code",
   "execution_count": 1,
   "id": "a4a6eb8c",
   "metadata": {},
   "outputs": [],
   "source": [
    "class library:\n",
    "    def __init__(self,list_books,name):\n",
    "        self.library_name=name\n",
    "        self.books=[]\n",
    "        self.books=list_books\n",
    "        self.books_owned=dict()\n",
    "        print(\"welcome to \",self.library_name)\n",
    "      \n",
    "    #add new books\n",
    "    def add(self):\n",
    "        book=input(\"enter the name of the book \")\n",
    "        self.books.append(book)\n",
    "        \n",
    "    #display all the books    \n",
    "    def display(self):\n",
    "        #loop in the list and print them\n",
    "        for i in range(0,len(self.books)):\n",
    "            print(\"---->\",i+1,\"-\",self.books[i],\"<------\")\n",
    "        print(\"-----------------------\")\n",
    "        \n",
    "        \n",
    "    #lend a book        \n",
    "    def lend(self):\n",
    "        user=input(\"please enter your name \")\n",
    "        #display all books to choose\n",
    "        self.display()\n",
    "        i=int(input(\"enter the number of the book you want \"))\n",
    "        print(\"you have bought \",self.books[i-1])\n",
    "        #save in the dict(name,book) and remove from the list of the books\n",
    "        self.books_owned[user]=self.books[i-1]\n",
    "        self.books.remove(self.books[i-1])\n",
    "    \n",
    "    #return a book\n",
    "    def retur(self):\n",
    "        user=input(\"please enter your name \")\n",
    "        #search if there is such name in dict\n",
    "        found =False\n",
    "        for key in self.books_owned:\n",
    "            if key == user:\n",
    "                found=True\n",
    "                break\n",
    "                \n",
    "        if found ==false:\n",
    "            print(\"no such user name\")\n",
    "            return\n",
    "        \n",
    "        #add to list of the books and remove from dictionary \n",
    "        self.books.append(self.books_owned.get(user))\n",
    "        del self.books_owned[user]\n",
    "    \n",
    "    \n",
    "    def dictionry_books(self):\n",
    "        for key in self.books_owned:\n",
    "            print(key,\"-->\",self.books_owned[key])\n",
    "        print(\"-----------------------\")\n",
    "        \n",
    "     \n",
    "    "
   ]
  },
  {
   "cell_type": "code",
   "execution_count": 2,
   "id": "3afd2cd1",
   "metadata": {},
   "outputs": [],
   "source": [
    "def menu():\n",
    "    print(\"1 - DISPLAY BOOKS\")\n",
    "    print(\"2 - LEND A BOOK\")\n",
    "    print(\"3 - ADD A BOOk\")\n",
    "    print(\"4 - RETURN A BOOK \")\n",
    "    print(\"5 - PRINT BORROWED BOOKS\")\n",
    "    print(\"***************************\")\n",
    "    op=int(input(\"enter the number from 1-->5 \"))\n",
    "    return op\n",
    "\n",
    "    "
   ]
  },
  {
   "cell_type": "code",
   "execution_count": null,
   "id": "e8b8cbe1",
   "metadata": {},
   "outputs": [
    {
     "name": "stdout",
     "output_type": "stream",
     "text": [
      "welcome to  instant\n",
      "1 - DISPLAY BOOKS\n",
      "2 - LEND A BOOK\n",
      "3 - ADD A BOOk\n",
      "4 - RETURN A BOOK \n",
      "5 - PRINT BORROWED BOOKS\n",
      "***************************\n"
     ]
    }
   ],
   "source": [
    "a=library([\"rich father poor father\",\"harry potter\"],\"instant\")\n",
    "\n",
    "while True:\n",
    "    p=menu()\n",
    "    if p==1:\n",
    "        a.display()\n",
    "    if p==2:\n",
    "        a.lend()\n",
    "    if p==3:\n",
    "        a.add()\n",
    "    if p==4:\n",
    "        a.retur()\n",
    "    if p==5:\n",
    "        a.dictionry_books()\n",
    "    "
   ]
  },
  {
   "cell_type": "code",
   "execution_count": null,
   "id": "a814b0da",
   "metadata": {},
   "outputs": [],
   "source": []
  },
  {
   "cell_type": "code",
   "execution_count": null,
   "id": "78eff31a",
   "metadata": {},
   "outputs": [],
   "source": []
  }
 ],
 "metadata": {
  "kernelspec": {
   "display_name": "Python 3 (ipykernel)",
   "language": "python",
   "name": "python3"
  },
  "language_info": {
   "codemirror_mode": {
    "name": "ipython",
    "version": 3
   },
   "file_extension": ".py",
   "mimetype": "text/x-python",
   "name": "python",
   "nbconvert_exporter": "python",
   "pygments_lexer": "ipython3",
   "version": "3.9.12"
  }
 },
 "nbformat": 4,
 "nbformat_minor": 5
}
