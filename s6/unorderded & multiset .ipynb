{
 "cells": [
  {
   "cell_type": "code",
   "execution_count": 21,
   "id": "911d38b8",
   "metadata": {},
   "outputs": [],
   "source": [
    "# unordered set :Sets are by definition an unordered collection.\n",
    "l=set([513, 135, 531, 153, 315, 351])"
   ]
  },
  {
   "cell_type": "code",
   "execution_count": 1,
   "id": "895da003",
   "metadata": {
    "collapsed": true
   },
   "outputs": [
    {
     "name": "stdout",
     "output_type": "stream",
     "text": [
      "{a, a, a, b, b, b, b, b}\n"
     ]
    }
   ],
   "source": [
    "#multi set\n",
    "from multiset import *\n",
    "a=Multiset(\"abbabbab\")\n",
    "print(a)"
   ]
  },
  {
   "cell_type": "code",
   "execution_count": null,
   "id": "ee582932",
   "metadata": {},
   "outputs": [],
   "source": []
  }
 ],
 "metadata": {
  "kernelspec": {
   "display_name": "Python 3 (ipykernel)",
   "language": "python",
   "name": "python3"
  },
  "language_info": {
   "codemirror_mode": {
    "name": "ipython",
    "version": 3
   },
   "file_extension": ".py",
   "mimetype": "text/x-python",
   "name": "python",
   "nbconvert_exporter": "python",
   "pygments_lexer": "ipython3",
   "version": "3.9.12"
  }
 },
 "nbformat": 4,
 "nbformat_minor": 5
}
