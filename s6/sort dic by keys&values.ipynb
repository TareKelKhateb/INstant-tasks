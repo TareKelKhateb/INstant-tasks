{
 "cells": [
  {
   "cell_type": "code",
   "execution_count": 3,
   "id": "2daa3e45",
   "metadata": {},
   "outputs": [
    {
     "name": "stdout",
     "output_type": "stream",
     "text": [
      "[('ali', 1), ('tarek', 9), ('ahmed', 10)]\n"
     ]
    }
   ],
   "source": [
    "#sort by value\n",
    "d={\n",
    "    \n",
    "    \"ali\":1,\n",
    "    \"ahmed\":10,\n",
    "    \"tarek\":9\n",
    "}\n",
    "\n",
    "a=sorted(d.items(),key=lambda d:d[1])\n",
    "print(a)\n"
   ]
  },
  {
   "cell_type": "code",
   "execution_count": 6,
   "id": "7f1a5774",
   "metadata": {},
   "outputs": [
    {
     "name": "stdout",
     "output_type": "stream",
     "text": [
      "OrderedDict([('ahmed', 10), ('ali', 1), ('tarek', 9)])\n"
     ]
    }
   ],
   "source": [
    "#sort by keys\n",
    "\n",
    "from collections import OrderedDict\n",
    "b=OrderedDict(sorted(d.items()))\n",
    "print(b)"
   ]
  },
  {
   "cell_type": "code",
   "execution_count": null,
   "id": "f517ee7e",
   "metadata": {},
   "outputs": [],
   "source": []
  }
 ],
 "metadata": {
  "kernelspec": {
   "display_name": "Python 3 (ipykernel)",
   "language": "python",
   "name": "python3"
  },
  "language_info": {
   "codemirror_mode": {
    "name": "ipython",
    "version": 3
   },
   "file_extension": ".py",
   "mimetype": "text/x-python",
   "name": "python",
   "nbconvert_exporter": "python",
   "pygments_lexer": "ipython3",
   "version": "3.9.12"
  }
 },
 "nbformat": 4,
 "nbformat_minor": 5
}
